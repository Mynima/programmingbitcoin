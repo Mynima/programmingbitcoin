{
 "cells": [
  {
   "cell_type": "code",
   "execution_count": 4,
   "metadata": {},
   "outputs": [],
   "source": [
    "############## PLEASE RUN THIS CELL FIRST! ###################\n",
    "\n",
    "# import everything and define a test runner function\n",
    "from importlib import reload\n",
    "from helper import run\n",
    "import ecc\n",
    "import helper\n",
    "import op\n",
    "import script\n",
    "import tx"
   ]
  },
  {
   "cell_type": "markdown",
   "metadata": {},
   "source": [
    "### Exercise 1\n",
    "\n",
    "Write the `op_checkmultisig` function of `op.py`.\n",
    "\n",
    "#### Make [this test](/edit/code-ch08/op.py) pass: `op.py:OpTest:test_op_checkmultisig`"
   ]
  },
  {
   "cell_type": "code",
   "execution_count": 5,
   "metadata": {},
   "outputs": [
    {
     "name": "stderr",
     "output_type": "stream",
     "text": [
      ".\n",
      "----------------------------------------------------------------------\n",
      "Ran 1 test in 0.548s\n",
      "\n",
      "OK\n"
     ]
    }
   ],
   "source": [
    "# Exercise 1\n",
    "\n",
    "reload(op)\n",
    "run(op.OpTest(\"test_op_checkmultisig\"))"
   ]
  },
  {
   "cell_type": "code",
   "execution_count": 6,
   "metadata": {},
   "outputs": [
    {
     "name": "stdout",
     "output_type": "stream",
     "text": [
      "3CLoMMyuoDQTPRD3XYZtCvgvkadrAdvdXh\n"
     ]
    }
   ],
   "source": [
    "from helper import encode_base58_checksum\n",
    "h160 = bytes.fromhex('74d691da1574e6b3c192ecfb52cc8984ee7b6c56')\n",
    "print(encode_base58_checksum(b'\\x05' + h160))"
   ]
  },
  {
   "cell_type": "markdown",
   "metadata": {},
   "source": [
    "### Exercise 2\n",
    "\n",
    "Write `h160_to_p2pkh_address` that converts a 20-byte hash160 into a p2pkh address.\n",
    "\n",
    "#### Make [this test](/edit/code-ch08/helper.HelperTest.py) pass: `helper.HelperTest.py::test_p2pkh_address`"
   ]
  },
  {
   "cell_type": "code",
   "execution_count": 12,
   "metadata": {},
   "outputs": [
    {
     "name": "stderr",
     "output_type": "stream",
     "text": [
      ".\n",
      "----------------------------------------------------------------------\n",
      "Ran 1 test in 0.002s\n",
      "\n",
      "OK\n"
     ]
    }
   ],
   "source": [
    "# Exercise 2\n",
    "\n",
    "reload(helper)\n",
    "run(helper.HelperTest(\"test_p2pkh_address\"))"
   ]
  },
  {
   "cell_type": "markdown",
   "metadata": {},
   "source": [
    "# Exercise 3\n",
    "\n",
    "Write `h160_to_p2sh_address` that converts a 20-byte hash160 into a p2sh address.\n",
    "\n",
    "#### Make [this test](/edit/code-ch08/helper.HelperTest.py) pass: `helper.HelperTest.py::test_p2sh_address`"
   ]
  },
  {
   "cell_type": "code",
   "execution_count": 13,
   "metadata": {},
   "outputs": [
    {
     "name": "stderr",
     "output_type": "stream",
     "text": [
      ".\n",
      "----------------------------------------------------------------------\n",
      "Ran 1 test in 0.002s\n",
      "\n",
      "OK\n"
     ]
    }
   ],
   "source": [
    "# Exercise 3\n",
    "\n",
    "reload(helper)\n",
    "run(helper.HelperTest(\"test_p2sh_address\"))"
   ]
  },
  {
   "cell_type": "code",
   "execution_count": 14,
   "metadata": {},
   "outputs": [
    {
     "name": "stdout",
     "output_type": "stream",
     "text": [
      "0xe71bfa115715d6fd33796948126f40a8cdd39f187e4afb03896795189fe1423c\n"
     ]
    }
   ],
   "source": [
    "from helper import hash256\n",
    "modified_tx = bytes.fromhex('0100000001868278ed6ddfb6c1ed3ad5f8181eb0c7a385aa0836f01d5e4789e6bd304d87221a000000475221022626e955ea6ea6d98850c994f9107b036b1334f18ca8830bfff1295d21cfdb702103b287eaf122eea69030a0e9feed096bed8045c8b98bec453e1ffac7fbdbd4bb7152aeffffffff04d3b11400000000001976a914904a49878c0adfc3aa05de7afad2cc15f483a56a88ac7f400900000000001976a914418327e3f3dda4cf5b9089325a4b95abdfa0334088ac722c0c00000000001976a914ba35042cfe9fc66fd35ac2224eebdafd1028ad2788acdc4ace020000000017a91474d691da1574e6b3c192ecfb52cc8984ee7b6c56870000000001000000')\n",
    "s256 = hash256(modified_tx)\n",
    "z = int.from_bytes(s256, 'big')\n",
    "print(hex(z))"
   ]
  },
  {
   "cell_type": "code",
   "execution_count": 15,
   "metadata": {},
   "outputs": [
    {
     "name": "stdout",
     "output_type": "stream",
     "text": [
      "True\n"
     ]
    }
   ],
   "source": [
    "from ecc import S256Point, Signature\n",
    "from helper import hash256\n",
    "modified_tx = bytes.fromhex('0100000001868278ed6ddfb6c1ed3ad5f8181eb0c7a385aa0836f01d5e4789e6bd304d87221a000000475221022626e955ea6ea6d98850c994f9107b036b1334f18ca8830bfff1295d21cfdb702103b287eaf122eea69030a0e9feed096bed8045c8b98bec453e1ffac7fbdbd4bb7152aeffffffff04d3b11400000000001976a914904a49878c0adfc3aa05de7afad2cc15f483a56a88ac7f400900000000001976a914418327e3f3dda4cf5b9089325a4b95abdfa0334088ac722c0c00000000001976a914ba35042cfe9fc66fd35ac2224eebdafd1028ad2788acdc4ace020000000017a91474d691da1574e6b3c192ecfb52cc8984ee7b6c56870000000001000000')\n",
    "h256 = hash256(modified_tx)\n",
    "z = int.from_bytes(h256, 'big')\n",
    "sec = bytes.fromhex('022626e955ea6ea6d98850c994f9107b036b1334f18ca8830bfff1295d21cfdb70')\n",
    "der = bytes.fromhex('3045022100dc92655fe37036f47756db8102e0d7d5e28b3beb83a8fef4f5dc0559bddfb94e02205a36d4e4e6c7fcd16658c50783e00c341609977aed3ad00937bf4ee942a89937')\n",
    "point = S256Point.parse(sec)\n",
    "sig = Signature.parse(der)\n",
    "print(point.verify(z, sig))"
   ]
  },
  {
   "cell_type": "markdown",
   "metadata": {},
   "source": [
    "### Exercise 4\n",
    "\n",
    "Validate the second signature from the transaction above."
   ]
  },
  {
   "cell_type": "code",
   "execution_count": 51,
   "metadata": {},
   "outputs": [
    {
     "name": "stdout",
     "output_type": "stream",
     "text": [
      "--------------------\n",
      "Transaction (Parse):\n",
      "--------------------\n",
      "tx: 46df1a9484d0a81d03ce0ee543ab6e1a23ed06175c104a178268fad381216c2b\n",
      "version: 1\n",
      "tx_ins:\n",
      "22874d30bde689475e1df03608aa85a3c7b01e18f8d53aedc1b6df6ded788286:26\n",
      "tx_outs:\n",
      "1356243:OP_DUP OP_HASH160 904a49878c0adfc3aa05de7afad2cc15f483a56a OP_EQUALVERIFY OP_CHECKSIG\n",
      "606335:OP_DUP OP_HASH160 418327e3f3dda4cf5b9089325a4b95abdfa03340 OP_EQUALVERIFY OP_CHECKSIG\n",
      "797810:OP_DUP OP_HASH160 ba35042cfe9fc66fd35ac2224eebdafd1028ad27 OP_EQUALVERIFY OP_CHECKSIG\n",
      "47074012:OP_HASH160 74d691da1574e6b3c192ecfb52cc8984ee7b6c56 OP_EQUAL\n",
      "locktime: 0\n",
      "----------------\n",
      "Mod Transaction:\n",
      "----------------\n",
      "b'\\x01\\x00\\x00\\x00\\x01\\x86\\x82x\\xedm\\xdf\\xb6\\xc1\\xed:\\xd5\\xf8\\x18\\x1e\\xb0\\xc7\\xa3\\x85\\xaa\\x086\\xf0\\x1d^G\\x89\\xe6\\xbd0M\\x87\"\\x1a\\x00\\x00\\x00GR!\\x02&&\\xe9U\\xean\\xa6\\xd9\\x88P\\xc9\\x94\\xf9\\x10{\\x03k\\x134\\xf1\\x8c\\xa8\\x83\\x0b\\xff\\xf1)]!\\xcf\\xdbp!\\x03\\xb2\\x87\\xea\\xf1\"\\xee\\xa6\\x900\\xa0\\xe9\\xfe\\xed\\tk\\xed\\x80E\\xc8\\xb9\\x8b\\xecE>\\x1f\\xfa\\xc7\\xfb\\xdb\\xd4\\xbbqR\\xae\\xff\\xff\\xff\\xff\\x04\\xd3\\xb1\\x14\\x00\\x00\\x00\\x00\\x00\\x19v\\xa9\\x14\\x90JI\\x87\\x8c\\n\\xdf\\xc3\\xaa\\x05\\xdez\\xfa\\xd2\\xcc\\x15\\xf4\\x83\\xa5j\\x88\\xac\\x7f@\\t\\x00\\x00\\x00\\x00\\x00\\x19v\\xa9\\x14A\\x83\\'\\xe3\\xf3\\xdd\\xa4\\xcf[\\x90\\x892ZK\\x95\\xab\\xdf\\xa03@\\x88\\xacr,\\x0c\\x00\\x00\\x00\\x00\\x00\\x19v\\xa9\\x14\\xba5\\x04,\\xfe\\x9f\\xc6o\\xd3Z\\xc2\"N\\xeb\\xda\\xfd\\x10(\\xad\\'\\x88\\xac\\xdcJ\\xce\\x02\\x00\\x00\\x00\\x00\\x17\\xa9\\x14t\\xd6\\x91\\xda\\x15t\\xe6\\xb3\\xc1\\x92\\xec\\xfbR\\xcc\\x89\\x84\\xee{lV\\x87\\x00\\x00\\x00\\x00\\x01\\x00\\x00\\x00'\n",
      "-------\n",
      "Verify:\n",
      "-------\n",
      "True\n"
     ]
    }
   ],
   "source": [
    "# Exercise 4\n",
    "\n",
    "from io import BytesIO\n",
    "from ecc import S256Point, Signature\n",
    "from helper import encode_varint, hash256, int_to_little_endian\n",
    "from script import Script\n",
    "from tx import Tx, TxIn, SIGHASH_ALL\n",
    "\n",
    "hex_tx = '0100000001868278ed6ddfb6c1ed3ad5f8181eb0c7a385aa0836f01d5e4789e6bd304d87221a000000db00483045022100dc92655fe37036f47756db8102e0d7d5e28b3beb83a8fef4f5dc0559bddfb94e02205a36d4e4e6c7fcd16658c50783e00c341609977aed3ad00937bf4ee942a8993701483045022100da6bee3c93766232079a01639d07fa869598749729ae323eab8eef53577d611b02207bef15429dcadce2121ea07f233115c6f09034c0be68db99980b9a6c5e75402201475221022626e955ea6ea6d98850c994f9107b036b1334f18ca8830bfff1295d21cfdb702103b287eaf122eea69030a0e9feed096bed8045c8b98bec453e1ffac7fbdbd4bb7152aeffffffff04d3b11400000000001976a914904a49878c0adfc3aa05de7afad2cc15f483a56a88ac7f400900000000001976a914418327e3f3dda4cf5b9089325a4b95abdfa0334088ac722c0c00000000001976a914ba35042cfe9fc66fd35ac2224eebdafd1028ad2788acdc4ace020000000017a91474d691da1574e6b3c192ecfb52cc8984ee7b6c568700000000'\n",
    "hex_sec = '03b287eaf122eea69030a0e9feed096bed8045c8b98bec453e1ffac7fbdbd4bb71'\n",
    "hex_der = '3045022100da6bee3c93766232079a01639d07fa869598749729ae323eab8eef53577d611b02207bef15429dcadce2121ea07f233115c6f09034c0be68db99980b9a6c5e754022'\n",
    "hex_redeem_script = '475221022626e955ea6ea6d98850c994f9107b036b1334f18ca8830bfff1295d21cfdb702103b287eaf122eea69030a0e9feed096bed8045c8b98bec453e1ffac7fbdbd4bb7152ae'\n",
    "sec = bytes.fromhex(hex_sec)\n",
    "der = bytes.fromhex(hex_der)\n",
    "redeem_script = Script.parse(BytesIO(bytes.fromhex(hex_redeem_script)))\n",
    "stream = BytesIO(bytes.fromhex(hex_tx))\n",
    "transaction = Tx.parse(stream)\n",
    "print(\"--------------------\")\n",
    "print(\"Transaction (Parse):\")\n",
    "print(\"--------------------\")\n",
    "print(transaction)\n",
    "\n",
    "\n",
    "\n",
    "# modify the transaction\n",
    "# start with version\n",
    "version = int_to_little_endian(transaction.version, 4)\n",
    "modified_tx = version\n",
    "# add number of inputs\n",
    "inputs = encode_varint(len(transaction.tx_ins))\n",
    "modified_tx += inputs\n",
    "# modify the single TxIn to have the ScriptSig to be the RedeemScript\n",
    "txnin = transaction.tx_ins[0]\n",
    "mod_txnin = TxIn(txnin.prev_tx, txnin.prev_index, redeem_script, txnin.sequence).serialize()\n",
    "modified_tx += mod_txnin\n",
    "# add the number of outputs\n",
    "outputs = encode_varint(len(transaction.tx_outs))\n",
    "modified_tx += outputs\n",
    "# add each output serialization\n",
    "for tx_out in transaction.tx_outs:\n",
    "    modified_tx += tx_out.serialize()\n",
    "# add the locktime\n",
    "locktime = int_to_little_endian(transaction.locktime, 4)\n",
    "modified_tx += locktime\n",
    "# add the SIGHASH_ALL\n",
    "sighash_all = int_to_little_endian(SIGHASH_ALL, 4)\n",
    "modified_tx += sighash_all\n",
    "print(\"----------------\")\n",
    "print(\"Mod Transaction:\")\n",
    "print(\"----------------\")\n",
    "print(modified_tx)\n",
    "# hash256 the result\n",
    "h256 = hash256(modified_tx)\n",
    "# interpret as a Big-Endian number\n",
    "z = int.from_bytes(h256, 'big')\n",
    "# parse the S256Point\n",
    "point = S256Point.parse(sec)\n",
    "# parse the Signature\n",
    "sig = Signature.parse(der)\n",
    "# verify that the point, z and signature work\n",
    "print(\"-------\")\n",
    "print(\"Verify:\")\n",
    "print(\"-------\")\n",
    "print(point.verify(z, sig))"
   ]
  },
  {
   "cell_type": "markdown",
   "metadata": {},
   "source": [
    "### Exercise 5\n",
    "\n",
    "Modify the `sig_hash` and `verify_input` methods to be able to verify p2sh transactions.\n",
    "\n",
    "#### Make [this test](/edit/code-ch08/tx.py) pass: `tx.py:TxTest:test_verify_p2sh`"
   ]
  },
  {
   "cell_type": "code",
   "execution_count": 56,
   "metadata": {},
   "outputs": [
    {
     "name": "stderr",
     "output_type": "stream",
     "text": [
      ".\n",
      "----------------------------------------------------------------------\n",
      "Ran 1 test in 0.555s\n",
      "\n",
      "OK\n"
     ]
    }
   ],
   "source": [
    "# Exercise 5\n",
    "\n",
    "reload(tx)\n",
    "run(tx.TxTest(\"test_verify_p2sh\"))"
   ]
  },
  {
   "cell_type": "code",
   "execution_count": null,
   "metadata": {},
   "outputs": [],
   "source": []
  }
 ],
 "metadata": {
  "kernelspec": {
   "display_name": "Python 3 (ipykernel)",
   "language": "python",
   "name": "python3"
  },
  "language_info": {
   "codemirror_mode": {
    "name": "ipython",
    "version": 3
   },
   "file_extension": ".py",
   "mimetype": "text/x-python",
   "name": "python",
   "nbconvert_exporter": "python",
   "pygments_lexer": "ipython3",
   "version": "3.9.6"
  }
 },
 "nbformat": 4,
 "nbformat_minor": 2
}
