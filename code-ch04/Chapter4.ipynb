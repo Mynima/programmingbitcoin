{
 "cells": [
  {
   "cell_type": "code",
   "execution_count": 1,
   "metadata": {},
   "outputs": [],
   "source": [
    "############## PLEASE RUN THIS CELL FIRST! ###################\n",
    "\n",
    "# import everything and define a test runner function\n",
    "from importlib import reload\n",
    "from helper import run\n",
    "import ecc\n",
    "import helper"
   ]
  },
  {
   "cell_type": "markdown",
   "metadata": {},
   "source": [
    "### Exercise 1\n",
    "\n",
    "Find the uncompressed SEC format for the Public Key where the Private Key secrets are:\n",
    "\n",
    "* 5000\n",
    "* \\\\(2018^{5}\\\\)\n",
    "* 0xdeadbeef12345"
   ]
  },
  {
   "cell_type": "code",
   "execution_count": 11,
   "metadata": {},
   "outputs": [
    {
     "name": "stdout",
     "output_type": "stream",
     "text": [
      "Mine:\n",
      "Test1\n",
      "04ffe558e388852f0120e46af2d1b370f85854a8eb0841811ece0e3e03d282d57c315dc72890a4f10a1481c031b03b351b0dc79901ca18a00cf009dbdb157a1d10\n",
      "Test2\n",
      "04027f3da1918455e03c46f659266a1bb5204e959db7364d2f473bdf8f0a13cc9dff87647fd023c13b4a4994f17691895806e1b40b57f4fd22581a4f46851f3b06\n",
      "Test3\n",
      "04d90cd625ee87dd38656dd95cf79f65f60f7273b67d3096e68bd81e4f5342691f842efa762fd59961d0e99803c61edba8b3e3f7dc3a341836f97733aebf987121\n",
      "\n",
      "Alternative:\n",
      "Test1\n",
      "04ffe558e388852f0120e46af2d1b370f85854a8eb0841811ece0e3e03d282d57c315dc72890a4f10a1481c031b03b351b0dc79901ca18a00cf009dbdb157a1d10\n",
      "Test2\n",
      "04027f3da1918455e03c46f659266a1bb5204e959db7364d2f473bdf8f0a13cc9dff87647fd023c13b4a4994f17691895806e1b40b57f4fd22581a4f46851f3b06\n",
      "Test3\n",
      "04d90cd625ee87dd38656dd95cf79f65f60f7273b67d3096e68bd81e4f5342691f842efa762fd59961d0e99803c61edba8b3e3f7dc3a341836f97733aebf987121\n"
     ]
    }
   ],
   "source": [
    "# Exercise 1\n",
    "\n",
    "from ecc import PrivateKey\n",
    "\n",
    "\n",
    "### My Method\n",
    "print(\"Mine:\")\n",
    "def uncomp_sec(z, count):\n",
    "    PublicKey = PrivateKey(z).point\n",
    "    Pub_x = PublicKey.x.num\n",
    "    Pub_y = PublicKey.y.num\n",
    "    sec_uncomp = b'\\x04' + Pub_x.to_bytes(32, 'big') + Pub_y.to_bytes(32, 'big')\n",
    "    print(\"{}\".format(count))\n",
    "    print(sec_uncomp.hex())\n",
    "uncomp_sec(5000, \"Test1\")\n",
    "uncomp_sec(2018**5, \"Test2\")\n",
    "uncomp_sec(0xdeadbeef12345, \"Test3\")\n",
    "\n",
    "### Alternative Nested\n",
    "print(\"\")\n",
    "print(\"Alternative:\")\n",
    "print(\"Test1\")\n",
    "priv = PrivateKey(5000)\n",
    "print(priv.point.sec(compressed=False).hex())\n",
    "print(\"Test2\")\n",
    "priv = PrivateKey(2018**5)\n",
    "print(priv.point.sec(compressed=False).hex())\n",
    "print(\"Test3\")\n",
    "priv = PrivateKey(0xdeadbeef12345)\n",
    "print(priv.point.sec(compressed=False).hex())\n",
    "\n",
    "# 5000\n",
    "# 2018**5\n",
    "# 0xdeadbeef12345\n",
    "# privatekey.point is the public key for a private key"
   ]
  },
  {
   "cell_type": "markdown",
   "metadata": {},
   "source": [
    "### Exercise 2\n",
    "\n",
    "Find the Compressed SEC format for the Public Key where the Private Key secrets are:\n",
    "\n",
    "* 5001\n",
    "* \\\\(2019^{5}\\\\)\n",
    "* 0xdeadbeef54321"
   ]
  },
  {
   "cell_type": "code",
   "execution_count": 10,
   "metadata": {},
   "outputs": [
    {
     "name": "stdout",
     "output_type": "stream",
     "text": [
      "Mine:\n",
      "Test1\n",
      "0357a4f368868a8a6d572991e484e664810ff14c05c0fa023275251151fe0e53d1\n",
      "Test2\n",
      "02933ec2d2b111b92737ec12f1c5d20f3233a0ad21cd8b36d0bca7a0cfa5cb8701\n",
      "Test3\n",
      "0296be5b1292f6c856b3c5654e886fc13511462059089cdf9c479623bfcbe77690\n",
      "\n",
      "Alternative:\n",
      "Test1\n",
      "0357a4f368868a8a6d572991e484e664810ff14c05c0fa023275251151fe0e53d1\n",
      "Test2\n",
      "02933ec2d2b111b92737ec12f1c5d20f3233a0ad21cd8b36d0bca7a0cfa5cb8701\n",
      "Test3\n",
      "0296be5b1292f6c856b3c5654e886fc13511462059089cdf9c479623bfcbe77690\n"
     ]
    }
   ],
   "source": [
    "# Exercise 2\n",
    "\n",
    "from ecc import PrivateKey\n",
    "\n",
    "# 5001\n",
    "# 2019**5\n",
    "# 0xdeadbeef54321\n",
    "\n",
    "### My Method\n",
    "print(\"Mine:\")\n",
    "def comp_sec(z, count):\n",
    "    PublicKey = PrivateKey(z).point\n",
    "    Pub_x = PublicKey.x.num\n",
    "    Pub_y = PublicKey.y.num\n",
    "    \n",
    "    if Pub_y % 2 == 0:\n",
    "        sec_comp = b'\\x02' + Pub_x.to_bytes(32, 'big')\n",
    "    else:\n",
    "        sec_comp = b'\\x03' + Pub_x.to_bytes(32, 'big')\n",
    "    print(\"{}\".format(count))\n",
    "    print(sec_comp.hex())\n",
    "comp_sec(5001, \"Test1\")\n",
    "comp_sec(2019**5, \"Test2\")\n",
    "comp_sec(0xdeadbeef54321, \"Test3\")\n",
    "\n",
    "### Alternative Nested\n",
    "print(\"\")\n",
    "print(\"Alternative:\")\n",
    "print(\"Test1\")\n",
    "priv = PrivateKey(5001)\n",
    "print(priv.point.sec(compressed=True).hex())\n",
    "print(\"Test2\")\n",
    "priv = PrivateKey(2019**5)\n",
    "print(priv.point.sec(compressed=True).hex())\n",
    "print(\"Test3\")\n",
    "priv = PrivateKey(0xdeadbeef54321)\n",
    "print(priv.point.sec(compressed=True).hex())"
   ]
  },
  {
   "cell_type": "markdown",
   "metadata": {},
   "source": [
    "### Exercise 3\n",
    "\n",
    "Find the DER format for a signature whose `r` and `s` values are:\n",
    "\n",
    "* r =\n",
    "\n",
    "`0x37206a0610995c58074999cb9767b87af4c4978db68c06e8e6e81d282047a7c6`\n",
    "\n",
    "* s =\n",
    "\n",
    "`0x8ca63759c1157ebeaec0d03cecca119fc9a75bf8e6d0fa65c841c8e2738cdaec`"
   ]
  },
  {
   "cell_type": "code",
   "execution_count": 9,
   "metadata": {},
   "outputs": [
    {
     "data": {
      "text/plain": [
       "True"
      ]
     },
     "execution_count": 9,
     "metadata": {},
     "output_type": "execute_result"
    }
   ],
   "source": [
    "# Exercise 3\n",
    "\n",
    "from ecc import Signature\n",
    "\n",
    "r = 0x37206a0610995c58074999cb9767b87af4c4978db68c06e8e6e81d282047a7c6\n",
    "s = 0x8ca63759c1157ebeaec0d03cecca119fc9a75bf8e6d0fa65c841c8e2738cdaec\n",
    "\n",
    "\n",
    "# Manual Method\n",
    "\n",
    "rmark = 2\n",
    "rval = r.to_bytes(32, byteorder=\"big\")\n",
    "if rval[0] & 0x80:\n",
    "    rval = rval.lstrip(b'\\x80')\n",
    "    rval = b'\\x00' + rval\n",
    "rlen = bytes([rmark,len(rval)])\n",
    "\n",
    "rall = rlen + rval\n",
    "\n",
    "smark = 2\n",
    "sval =s.to_bytes(32, byteorder=\"big\")\n",
    "if sval[0] & 0x80:\n",
    "    sval = sval.lstrip(b'\\x80')\n",
    "    sval = b'\\x00' + sval\n",
    "slen = bytes([smark,len(sval)])\n",
    "\n",
    "sall = slen + sval\n",
    "\n",
    "len_r_s = bytes([0x30,len(rall + sall)])\n",
    "\n",
    "combined = len_r_s + rall + sall\n",
    "sig = combined.hex()\n",
    "\n",
    "\n",
    "# Alt method using python\n",
    "alt_sig = Signature(r, s).der().hex()\n",
    "\n",
    "alt_sig == sig\n",
    "\n"
   ]
  },
  {
   "cell_type": "markdown",
   "metadata": {},
   "source": [
    "### Exercise 4\n",
    "\n",
    "Convert the following hex to binary and then to Base58:\n",
    "\n",
    "* `7c076ff316692a3d7eb3c3bb0f8b1488cf72e1afcd929e29307032997a838a3d`\n",
    "* `eff69ef2b1bd93a66ed5219add4fb51e11a840f404876325a1e8ffe0529a2c`\n",
    "* `c7207fee197d27c618aea621406f6bf5ef6fca38681d82b2f06fddbdce6feab6`"
   ]
  },
  {
   "cell_type": "code",
   "execution_count": 8,
   "metadata": {},
   "outputs": [
    {
     "name": "stdout",
     "output_type": "stream",
     "text": [
      "Mine:\n",
      "Test1\n",
      "9MA8fRQrT4u8Zj8ZRd6MAiiyaxb2Y1CMpvVkHQu5hVM6\n",
      "Test2\n",
      "4fE3H2E6XMp4SsxtwinF7w9a34ooUrwWe4WsW1458Pd\n",
      "Test3\n",
      "EQJsjkd6JaGwxrjEhfeqPenqHwrBmPQZjJGNSCHBkcF7\n"
     ]
    }
   ],
   "source": [
    "# Exercise 4\n",
    "\n",
    "from helper import encode_base58\n",
    "\n",
    "# 7c076ff316692a3d7eb3c3bb0f8b1488cf72e1afcd929e29307032997a838a3d\n",
    "# eff69ef2b1bd93a66ed5219add4fb51e11a840f404876325a1e8ffe0529a2c\n",
    "# c7207fee197d27c618aea621406f6bf5ef6fca38681d82b2f06fddbdce6feab6\n",
    "\n",
    "print(\"Mine:\")\n",
    "def base58_convert(h,count):\n",
    "    val = encode_base58(bytes.fromhex(h))\n",
    "    print(\"{}\".format(count))\n",
    "    print(val)\n",
    "base58_convert(\"7c076ff316692a3d7eb3c3bb0f8b1488cf72e1afcd929e29307032997a838a3d\", \"Test1\")\n",
    "base58_convert(\"eff69ef2b1bd93a66ed5219add4fb51e11a840f404876325a1e8ffe0529a2c\", \"Test2\")\n",
    "base58_convert(\"c7207fee197d27c618aea621406f6bf5ef6fca38681d82b2f06fddbdce6feab6\", \"Test3\")\n"
   ]
  },
  {
   "cell_type": "markdown",
   "metadata": {},
   "source": [
    "### Exercise 5\n",
    "\n",
    "Find the address corresponding to Public Keys whose Private Key secrets are:\n",
    "\n",
    "* 5002 (use uncompressed SEC, on testnet)\n",
    "* \\\\(2020^{5}\\\\) (use compressed SEC, on testnet)\n",
    "* 0x12345deadbeef (use compressed SEC on mainnet)"
   ]
  },
  {
   "cell_type": "code",
   "execution_count": 50,
   "metadata": {},
   "outputs": [
    {
     "name": "stdout",
     "output_type": "stream",
     "text": [
      "mmTPbXQFxboEtNRkwfh6K51jvdtHLxGeMA\n",
      "mopVkxp8UhXqRYbCYJsbeE1h1fiF64jcoH\n",
      "1F1Pn2y6pDb68E5nYJJeba4TLg2U7B6KF1\n",
      "\n",
      "Maunal Method:\n",
      "mmTPbXQFxboEtNRkwfh6K51jvdtHLxGeMA\n",
      "mopVkxp8UhXqRYbCYJsbeE1h1fiF64jcoH\n",
      "1F1Pn2y6pDb68E5nYJJeba4TLg2U7B6KF1\n"
     ]
    }
   ],
   "source": [
    "# Exercise 5\n",
    "\n",
    "from ecc import PrivateKey\n",
    "import hashlib\n",
    "from helper import encode_base58\n",
    "\n",
    "priv = PrivateKey(5002)\n",
    "print(priv.point.address(compressed=False, testnet=True))\n",
    "\n",
    "priv = PrivateKey(2020**5)\n",
    "print(priv.point.address(compressed=True, testnet=True))\n",
    "\n",
    "priv = PrivateKey(0x12345deadbeef)\n",
    "print(priv.point.address(compressed=True, testnet=False))\n",
    "\n",
    "# 5002 (use uncompressed SEC, on testnet)\n",
    "# 2020**5 (use compressed SEC, on testnet)\n",
    "# 0x12345deadbeef (use compressed SEC on mainnet)\n",
    "print(\"\")\n",
    "print(\"Maunal Method:\")\n",
    "\n",
    "def manual(s, comp=False, test=False):\n",
    "    secret = s\n",
    "    private_key = PrivateKey(secret)\n",
    "    if test == True:\n",
    "        p1 = b'\\x6f'\n",
    "    else:\n",
    "        p1 = b'\\x00'\n",
    "    p2_comp = private_key.point.sec(compressed=comp)\n",
    "    p2_sha = hashlib.sha256(p2_comp).digest()\n",
    "    p2_sha_106 = hashlib.new('ripemd160', p2_sha).digest()\n",
    "    p3 = p1 + p2_sha_106\n",
    "    p4 = hashlib.sha256(hashlib.sha256(p3).digest()).digest()[:4]\n",
    "    p5 = encode_base58(p3 + p4)\n",
    "    print(p5)\n",
    "\n",
    "manual(5002, comp=False, test=True)\n",
    "manual(2020**5, comp=True, test=True)\n",
    "manual(0x12345deadbeef, comp=True, test=False)\n",
    "\n",
    "\n",
    "\n",
    "\n"
   ]
  },
  {
   "cell_type": "markdown",
   "metadata": {},
   "source": [
    "### Exercise 6\n",
    "\n",
    "Find the WIF for Private Key whose secrets are:\n",
    "\n",
    "* 5003 (compressed, testnet)\n",
    "* \\\\(2021^{5}\\\\) (uncompressed, testnet)\n",
    "* 0x54321deadbeef (compressed, mainnet)"
   ]
  },
  {
   "cell_type": "code",
   "execution_count": 74,
   "metadata": {},
   "outputs": [
    {
     "name": "stdout",
     "output_type": "stream",
     "text": [
      "Maunal Method:\n",
      "cMahea7zqjxrtgAbB7LSGbcQUr1uX1ojuat9jZodMN8rFTv2sfUK\n",
      "91avARGdfge8E4tZfYLoxeJ5sGBdNJQH4kvjpWAxgzczjbCwxic\n",
      "KwDiBf89QgGbjEhKnhXJuH7LrciVrZi3qYjgiuQJv1h8Ytr2S53a\n",
      "\n",
      "Alt Method:\n",
      "cMahea7zqjxrtgAbB7LSGbcQUr1uX1ojuat9jZodMN8rFTv2sfUK\n",
      "91avARGdfge8E4tZfYLoxeJ5sGBdNJQH4kvjpWAxgzczjbCwxic\n",
      "KwDiBf89QgGbjEhKnhXJuH7LrciVrZi3qYjgiuQJv1h8Ytr2S53a\n",
      "f401\n",
      "001\n"
     ]
    }
   ],
   "source": [
    "# Exercise 6\n",
    "\n",
    "from ecc import PrivateKey\n",
    "import hashlib\n",
    "from helper import encode_base58\n",
    "\n",
    "# 5003\n",
    "# 2021**5\n",
    "# 0x54321deadbeef\n",
    "print(\"Maunal Method:\")\n",
    "def manual(s, comp=False, test=False):\n",
    "    secret = s\n",
    "    if test == True:\n",
    "        p1 = b'\\xef'\n",
    "    else:\n",
    "        p1 = b'\\x80'\n",
    "    p2 = secret.to_bytes(32,'big')\n",
    "    if comp == True:\n",
    "        p3 = b'\\x01'\n",
    "        p4 = p1 + p2 + p3\n",
    "    else:\n",
    "        p4 = p1 + p2\n",
    "    p5 = hashlib.sha256(hashlib.sha256(p4).digest()).digest()[:4]\n",
    "    p6 = encode_base58(p4 + p5)\n",
    "    return p6\n",
    "\n",
    "print(manual(5003, comp=True, test=True))\n",
    "print(manual(2021**5, comp=False, test=True))\n",
    "print(manual(0x54321deadbeef, comp=True, test=False))\n",
    "\n",
    "print(\"\")\n",
    "print(\"Alt Method:\")\n",
    "priv = PrivateKey(5003)\n",
    "print(priv.wif(compressed=True, testnet=True))\n",
    "priv = PrivateKey(2021**5)\n",
    "print(priv.wif(compressed=False, testnet=True))\n",
    "priv = PrivateKey(0x54321deadbeef)\n",
    "print(priv.wif(compressed=True, testnet=False))"
   ]
  },
  {
   "cell_type": "markdown",
   "metadata": {},
   "source": [
    "### Exercise 7\n",
    "\n",
    "Write a function `little_endian_to_int` which takes Python bytes, interprets those bytes in Little-Endian and returns the number.\n",
    "\n",
    "#### Make [this test](/edit/code-ch04/helper.py) pass: `helper.py:HelperTest:test_little_endian_to_int`"
   ]
  },
  {
   "cell_type": "code",
   "execution_count": 83,
   "metadata": {},
   "outputs": [
    {
     "name": "stderr",
     "output_type": "stream",
     "text": [
      ".\n",
      "----------------------------------------------------------------------\n",
      "Ran 1 test in 0.004s\n",
      "\n",
      "OK\n"
     ]
    }
   ],
   "source": [
    "# Exercise 7\n",
    "\n",
    "reload(helper)   \n",
    "run(helper.HelperTest(\"test_little_endian_to_int\"))"
   ]
  },
  {
   "cell_type": "markdown",
   "metadata": {},
   "source": [
    "### Exercise 8\n",
    "\n",
    "Write a function `int_to_little_endian` which does the reverse of the last exercise.\n",
    "\n",
    "#### Make [this test](/edit/code-ch04/helper.py) pass: `helper.py:HelperTest:test_int_to_little_endian`"
   ]
  },
  {
   "cell_type": "code",
   "execution_count": 85,
   "metadata": {},
   "outputs": [
    {
     "name": "stderr",
     "output_type": "stream",
     "text": [
      ".\n",
      "----------------------------------------------------------------------\n",
      "Ran 1 test in 0.002s\n",
      "\n",
      "OK\n"
     ]
    }
   ],
   "source": [
    "# Exercise 8\n",
    "\n",
    "reload(helper)\n",
    "run(helper.HelperTest(\"test_int_to_little_endian\"))"
   ]
  },
  {
   "cell_type": "markdown",
   "metadata": {},
   "source": [
    "### Exercise 9\n",
    "\n",
    "Create a testnet address for yourself using a long secret that only you know. This is important as there are bots on testnet trying to steal testnet coins. Make sure you write this secret down somewhere! You will be using the secret later to sign Transactions."
   ]
  },
  {
   "cell_type": "code",
   "execution_count": 97,
   "metadata": {},
   "outputs": [
    {
     "name": "stdout",
     "output_type": "stream",
     "text": [
      "n1Eqn2vTXR4xfy7UVJGXnGn2DxQpqWXiWH\n"
     ]
    }
   ],
   "source": [
    "# Exercise 9\n",
    "\n",
    "from ecc import PrivateKey\n",
    "from helper import hash256, little_endian_to_int\n",
    "\n",
    "passphrase = b'mynima@protonmail.comBorderTerriers.Becausepeoplearestupid.'\n",
    "secret = little_endian_to_int(hash256(passphrase))\n",
    "private = PrivateKey(secret)\n",
    "public = private.point.address(compressed=True, testnet=True)\n",
    "print(public)\n",
    "\n",
    "# select a passphrase here, add your email address into the passphrase for security\n",
    "# passphrase = b'your@email.address some secret only you know'\n",
    "# secret = little_endian_to_int(hash256(passphrase))\n",
    "# create a private key using your secret\n",
    "# print an address from the public point of the private key with testnet=True"
   ]
  },
  {
   "cell_type": "code",
   "execution_count": null,
   "metadata": {},
   "outputs": [],
   "source": []
  }
 ],
 "metadata": {
  "kernelspec": {
   "display_name": "Python 3 (ipykernel)",
   "language": "python",
   "name": "python3"
  },
  "language_info": {
   "codemirror_mode": {
    "name": "ipython",
    "version": 3
   },
   "file_extension": ".py",
   "mimetype": "text/x-python",
   "name": "python",
   "nbconvert_exporter": "python",
   "pygments_lexer": "ipython3",
   "version": "3.9.6"
  }
 },
 "nbformat": 4,
 "nbformat_minor": 2
}
