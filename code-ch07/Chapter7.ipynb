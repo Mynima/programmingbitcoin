{
 "cells": [
  {
   "cell_type": "code",
   "execution_count": 2,
   "metadata": {},
   "outputs": [],
   "source": [
    "############## PLEASE RUN THIS CELL FIRST! ###################\n",
    "\n",
    "# import everything and define a test runner function\n",
    "from importlib import reload\n",
    "from helper import run\n",
    "import ecc\n",
    "import helper\n",
    "import tx\n",
    "import script"
   ]
  },
  {
   "cell_type": "code",
   "execution_count": 3,
   "metadata": {},
   "outputs": [
    {
     "name": "stdout",
     "output_type": "stream",
     "text": [
      "True\n"
     ]
    }
   ],
   "source": [
    "from tx import Tx\n",
    "from io import BytesIO\n",
    "raw_tx = ('0100000001813f79011acb80925dfe69b3def355fe914bd1d96a3f5f71bf8303c6a989c7d1000000006b483045022100ed81ff192e75a3fd2304004dcadb746fa5e24c5031ccfcf21320b0277457c98f02207a986d955c6e0cb35d446a89d3f56100f4d7f67801c31967743a9c8e10615bed01210349fc4e631e3624a545de3f89f5d8684c7b8138bd94bdd531d2e213bf016b278afeffffff02a135ef01000000001976a914bc3b654dca7e56b04dca18f2566cdaf02e8d9ada88ac99c39800000000001976a9141c4bc762dd5423e332166702cb75f40df79fea1288ac19430600')\n",
    "stream = BytesIO(bytes.fromhex(raw_tx))\n",
    "transaction = Tx.parse(stream)\n",
    "print(transaction.fee() >= 0)"
   ]
  },
  {
   "cell_type": "code",
   "execution_count": 4,
   "metadata": {},
   "outputs": [
    {
     "name": "stdout",
     "output_type": "stream",
     "text": [
      "True\n"
     ]
    }
   ],
   "source": [
    "from ecc import S256Point, Signature\n",
    "sec = bytes.fromhex('0349fc4e631e3624a545de3f89f5d8684c7b8138bd94bdd531d2e213bf016b278a')\n",
    "der = bytes.fromhex('3045022100ed81ff192e75a3fd2304004dcadb746fa5e24c5031ccfcf21320b0277457c98f02207a986d955c6e0cb35d446a89d3f56100f4d7f67801c31967743a9c8e10615bed')\n",
    "z = 0x27e0c5994dec7824e56dec6b2fcb342eb7cdb0d0957c2fce9882f715e85d81a6\n",
    "point = S256Point.parse(sec)\n",
    "signature = Signature.parse(der)\n",
    "print(point.verify(z, signature))"
   ]
  },
  {
   "cell_type": "code",
   "execution_count": 5,
   "metadata": {},
   "outputs": [
    {
     "name": "stdout",
     "output_type": "stream",
     "text": [
      "0x27e0c5994dec7824e56dec6b2fcb342eb7cdb0d0957c2fce9882f715e85d81a6\n"
     ]
    }
   ],
   "source": [
    "from helper import hash256\n",
    "modified_tx = bytes.fromhex('0100000001813f79011acb80925dfe69b3def355fe914bd1d96a3f5f71bf8303c6a989c7d1000000001976a914a802fc56c704ce87c42d7c92eb75e7896bdc41ae88acfeffffff02a135ef01000000001976a914bc3b654dca7e56b04dca18f2566cdaf02e8d9ada88ac99c39800000000001976a9141c4bc762dd5423e332166702cb75f40df79fea1288ac1943060001000000')\n",
    "h256 = hash256(modified_tx)\n",
    "z = int.from_bytes(h256, 'big')\n",
    "print(hex(z))"
   ]
  },
  {
   "cell_type": "code",
   "execution_count": 6,
   "metadata": {},
   "outputs": [
    {
     "data": {
      "text/plain": [
       "True"
      ]
     },
     "execution_count": 6,
     "metadata": {},
     "output_type": "execute_result"
    }
   ],
   "source": [
    "from ecc import S256Point, Signature\n",
    "sec = bytes.fromhex('0349fc4e631e3624a545de3f89f5d8684c7b8138bd94bdd531d2e213bf016b278a')\n",
    "der = bytes.fromhex('3045022100ed81ff192e75a3fd2304004dcadb746fa5e24c5031ccfcf21320b0277457c98f02207a986d955c6e0cb35d446a89d3f56100f4d7f67801c31967743a9c8e10615bed')\n",
    "z = 0x27e0c5994dec7824e56dec6b2fcb342eb7cdb0d0957c2fce9882f715e85d81a6\n",
    "point = S256Point.parse(sec)\n",
    "signature = Signature.parse(der)\n",
    "point.verify(z, signature)"
   ]
  },
  {
   "cell_type": "markdown",
   "metadata": {},
   "source": [
    "### Exercise 1\n",
    "\n",
    "Write the `sig_hash` method for the `Tx` class.\n",
    "\n",
    "#### Make [this test](/edit/code-ch07/tx.py) pass: `tx.py:TxTest:test_sig_hash`"
   ]
  },
  {
   "cell_type": "code",
   "execution_count": 14,
   "metadata": {},
   "outputs": [
    {
     "name": "stderr",
     "output_type": "stream",
     "text": [
      ".\n",
      "----------------------------------------------------------------------\n",
      "Ran 1 test in 0.004s\n",
      "\n",
      "OK\n"
     ]
    }
   ],
   "source": [
    "# Exercise 1\n",
    "\n",
    "reload(tx)\n",
    "run(tx.TxTest(\"test_sig_hash\"))"
   ]
  },
  {
   "cell_type": "markdown",
   "metadata": {},
   "source": [
    "### Exercise 2\n",
    "\n",
    "Write the `verify_input` method for the `Tx` class. You will want to use the `TxIn.script_pubkey()`, `Tx.sig_hash()` and `Script.evaluate()` methods.\n",
    "\n",
    "#### Make [this test](/edit/code-ch07/tx.py) pass: `tx.py:TxTest:test_verify_p2pkh`"
   ]
  },
  {
   "cell_type": "code",
   "execution_count": 22,
   "metadata": {},
   "outputs": [
    {
     "name": "stderr",
     "output_type": "stream",
     "text": [
      ".\n",
      "----------------------------------------------------------------------\n",
      "Ran 1 test in 0.552s\n",
      "\n",
      "OK\n"
     ]
    }
   ],
   "source": [
    "# Exercise 2\n",
    "\n",
    "reload(tx)\n",
    "run(tx.TxTest(\"test_verify_p2pkh\"))"
   ]
  },
  {
   "cell_type": "code",
   "execution_count": 7,
   "metadata": {},
   "outputs": [
    {
     "name": "stdout",
     "output_type": "stream",
     "text": [
      "tx: cd30a8da777d28ef0e61efe68a9f7c559c1d3e5bcd7b265c850ccb4068598d11\n",
      "version: 1\n",
      "tx_ins:\n",
      "0d6fe5213c0b3291f208cba8bfb59b7476dffacc4e5cb66f6eb20a080843a299:13\n",
      "tx_outs:\n",
      "33000000:OP_DUP OP_HASH160 d52ad7ca9b3d096a38e752c2018e6fbc40cdf26f OP_EQUALVERIFY OP_CHECKSIG\n",
      "10000000:OP_DUP OP_HASH160 507b27411ccf7f16f10297de6cef3f291623eddf OP_EQUALVERIFY OP_CHECKSIG\n",
      "locktime: 0\n"
     ]
    }
   ],
   "source": [
    "from helper import decode_base58, SIGHASH_ALL\n",
    "from script import p2pkh_script, Script\n",
    "from tx import TxIn, TxOut, Tx\n",
    "prev_tx = bytes.fromhex('0d6fe5213c0b3291f208cba8bfb59b7476dffacc4e5cb66f6eb20a080843a299')\n",
    "prev_index = 13\n",
    "tx_in = TxIn(prev_tx, prev_index)\n",
    "tx_outs = []\n",
    "change_amount = int(0.33*100000000)\n",
    "change_h160 = decode_base58('mzx5YhAH9kNHtcN481u6WkjeHjYtVeKVh2')\n",
    "change_script = p2pkh_script(change_h160)\n",
    "change_output = TxOut(amount=change_amount, script_pubkey=change_script)\n",
    "target_amount = int(0.1*100000000)\n",
    "target_h160 = decode_base58('mnrVtF8DWjMu839VW3rBfgYaAfKk8983Xf')\n",
    "target_script = p2pkh_script(target_h160)\n",
    "target_output = TxOut(amount=target_amount, script_pubkey=target_script)\n",
    "tx_obj = Tx(1, [tx_in], [change_output, target_output], 0, True)\n",
    "print(tx_obj)"
   ]
  },
  {
   "cell_type": "code",
   "execution_count": 8,
   "metadata": {},
   "outputs": [
    {
     "name": "stdout",
     "output_type": "stream",
     "text": [
      "0100000001813f79011acb80925dfe69b3def355fe914bd1d96a3f5f71bf8303c6a989c7d1000000006a47304402207db2402a3311a3b845b038885e3dd889c08126a8570f26a844e3e4049c482a11022010178cdca4129eacbeab7c44648bf5ac1f9cac217cd609d216ec2ebc8d242c0a012103935581e52c354cd2f484fe8ed83af7a3097005b2f9c60bff71d35bd795f54b67feffffff02a135ef01000000001976a914bc3b654dca7e56b04dca18f2566cdaf02e8d9ada88ac99c39800000000001976a9141c4bc762dd5423e332166702cb75f40df79fea1288ac19430600\n"
     ]
    }
   ],
   "source": [
    "from ecc import PrivateKey\n",
    "from helper import SIGHASH_ALL\n",
    "z = transaction.sig_hash(0)\n",
    "private_key = PrivateKey(secret=8675309)\n",
    "der = private_key.sign(z).der()\n",
    "sig = der + SIGHASH_ALL.to_bytes(1, 'big')\n",
    "sec = private_key.point.sec()\n",
    "script_sig = Script([sig, sec])\n",
    "transaction.tx_ins[0].script_sig = script_sig \n",
    "print(transaction.serialize().hex())"
   ]
  },
  {
   "cell_type": "code",
   "execution_count": 17,
   "metadata": {},
   "outputs": [
    {
     "name": "stdout",
     "output_type": "stream",
     "text": [
      "mn81594PzKZa9K3Jyy1ushpuEzrnTnxhVg\n",
      "-----\n",
      "Mine\n",
      "Public: n1Eqn2vTXR4xfy7UVJGXnGn2DxQpqWXiWH\n",
      "-----\n"
     ]
    }
   ],
   "source": [
    "from ecc import PrivateKey\n",
    "from helper import hash256, little_endian_to_int\n",
    "secret = little_endian_to_int(hash256(b'Jimmy Song secret'))\n",
    "private_key = PrivateKey(secret)\n",
    "print(private_key.point.address(testnet=True))\n",
    "\n",
    "\n",
    "print(\"-----\")\n",
    "print(\"Mine\")\n",
    "passphrase = b'mynima@protonmail.comBorderTerriers.Becausepeoplearestupid.'\n",
    "secret = little_endian_to_int(hash256(passphrase))\n",
    "private = PrivateKey(secret)\n",
    "public = private.point.address(compressed=True, testnet=True)\n",
    "print(\"Public: \" + public)\n",
    "print(\"-----\")"
   ]
  },
  {
   "cell_type": "markdown",
   "metadata": {},
   "source": [
    "### Exercise 3\n",
    "\n",
    "Write the `sign_input` method for the `Tx` class.\n",
    "\n",
    "#### Make [this test](/edit/code-ch07/tx.py) pass: `tx.py:TxTest:test_sign_input`"
   ]
  },
  {
   "cell_type": "code",
   "execution_count": 13,
   "metadata": {},
   "outputs": [
    {
     "name": "stderr",
     "output_type": "stream",
     "text": [
      ".\n",
      "----------------------------------------------------------------------\n",
      "Ran 1 test in 0.407s\n",
      "\n",
      "OK\n"
     ]
    }
   ],
   "source": [
    "# Exercise 3\n",
    "\n",
    "reload(tx)\n",
    "run(tx.TxTest(\"test_sign_input\"))\n"
   ]
  },
  {
   "cell_type": "markdown",
   "metadata": {},
   "source": [
    "### Exercise 4\n",
    "\n",
    "Create a testnet transaction that sends 60% of a single UTXO to `mwJn1YPMq7y5F8J3LkC5Hxg9PHyZ5K4cFv`. The remaining amount minus fees should go back to your own change address. This should be a 1 input, 2 output transaction.\n",
    "\n",
    "You can broadcast the transaction at https://testnet.blockchain.info/pushtx"
   ]
  },
  {
   "cell_type": "code",
   "execution_count": 48,
   "metadata": {},
   "outputs": [
    {
     "name": "stdout",
     "output_type": "stream",
     "text": [
      "-----\n",
      "Send: 20000\n",
      "Fee: 230\n",
      "Change: 179770\n",
      "-----\n",
      "Signed Transaction:\n",
      "True\n",
      "-----\n",
      "TXN:\n",
      "01000000011fa5992572a9bb43126dd93e54d3b7a6a82dd002eb2aed6199c0bbfd721a005e010000006a473044022055e23928eab25b7bd8eaef9b121005d462ecf8d43730ec865ff261322affe5ca022063cc0183f4f4972ddccc69875b0ab8b68705b545e059e7a4d247b4db114aa48b0121030330b5abffcf0d488c878a37ac6ac705c7a92041898be4b725a19128fe2ca9bdffffffff02204e0000000000001976a914ad346f8eb57dee9a37981716e498120ae80e44f788ac3abe0200000000001976a914d8566b7013b70035913951894b37ea21c9352cd088ac00000000\n"
     ]
    }
   ],
   "source": [
    "# Exercise 4\n",
    "\n",
    "from ecc import PrivateKey\n",
    "from helper import decode_base58, SIGHASH_ALL\n",
    "from script import p2pkh_script, Script\n",
    "from tx import TxIn, TxOut, Tx\n",
    "\n",
    "utxo_in = 0.002\n",
    "btc_to_sats = 100000000\n",
    "fee_factor = 0.002\n",
    "fee_set = 230\n",
    "\n",
    "# create 1 TxIn and 2 TxOuts\n",
    "# 1 of the TxOuts should be back to your address\n",
    "# the other TxOut should be to this address\n",
    "target_address = 'mwJn1YPMq7y5F8J3LkC5Hxg9PHyZ5K4cFv'\n",
    "# target amount should be 60% of the output amount\n",
    "target_amount = int((utxo_in*btc_to_sats)*0.1)\n",
    "\n",
    "# set the fee to some reasonable amount\n",
    "if fee_set == 0:\n",
    "    fee = int((utxo_in*btc_to_sats)*fee_factor)\n",
    "else:\n",
    "    fee = fee_set\n",
    "\n",
    "# get the private key from the exercise in Chapter 4\n",
    "# change address should be the address generated from Chapter 4\n",
    "change_address = 'n1Eqn2vTXR4xfy7UVJGXnGn2DxQpqWXiWH'\n",
    "\n",
    "# change amount = amount from the prev tx - target amount - fee\n",
    "change_amount = int((utxo_in*btc_to_sats)) - target_amount - fee\n",
    "\n",
    "\n",
    "# get the prev_tx and prev_index from the transaction where you got\n",
    "# some testnet coins\n",
    "prev_tx = bytes.fromhex(\"5e001a72fdbbc09961ed2aeb02d02da8a6b7d3543ed96d1243bba9722599a51f\")\n",
    "prev_index = 1\n",
    "# create a transaction input for the previous transaction with\n",
    "# the default ScriptSig and sequence\n",
    "tx_ins = []\n",
    "tx_in = TxIn(prev_tx, prev_index)\n",
    "tx_ins.append(tx_in)\n",
    "\n",
    "\n",
    "tx_outs = []\n",
    "# create a transaction output for the target amount and address\n",
    "target_h160 = decode_base58(target_address)\n",
    "target_script = p2pkh_script(target_h160)\n",
    "target_output = TxOut(amount=target_amount, script_pubkey=target_script)\n",
    "tx_outs.append(target_output)\n",
    "# create a transaction output for the change amount and address\n",
    "change_h160 = decode_base58(change_address)\n",
    "change_script = p2pkh_script(change_h160)\n",
    "change_output = TxOut(amount=change_amount, script_pubkey=change_script)\n",
    "tx_outs.append(change_output)\n",
    "\n",
    "\n",
    "# create the transaction object\n",
    "tx_obj = Tx(1, tx_ins, tx_outs, 0, True)\n",
    "\n",
    "# sign the one input in the transaction object using the private key\n",
    "passphrase = b'mynima@protonmail.comBorderTerriers.Becausepeoplearestupid.'\n",
    "secret = little_endian_to_int(hash256(passphrase))\n",
    "private_key = PrivateKey(secret)\n",
    "\n",
    "print(\"-----\")\n",
    "print(\"Send: \" + str(target_amount))\n",
    "print(\"Fee: \" + str(fee))\n",
    "print(\"Change: \" + str(change_amount))\n",
    "\n",
    "print(\"-----\")\n",
    "print(\"Signed Transaction(s):\")\n",
    "for i, tx_in in enumerate(tx_ins):\n",
    "    print(tx_obj.sign_input(i-1, private_key))\n",
    "\n",
    "# print the transaction's serialization in hex\n",
    "print(\"-----\")\n",
    "print(\"TXN:\")\n",
    "print(tx_obj.serialize().hex())\n",
    "\n",
    "# broadcast at http://testnet.blockchain.info/pushtx"
   ]
  },
  {
   "cell_type": "markdown",
   "metadata": {},
   "source": [
    "### Exercise 5\n",
    "\n",
    "Advanced: get some more testnet coins from a testnet faucet and create a 2 input, 1 output transaction. 1 input should be from the faucet, the other should be from the previous exercise, the output can be your own address.\n",
    "\n",
    "You can broadcast the transaction at https://testnet.blockchain.info/pushtx"
   ]
  },
  {
   "cell_type": "code",
   "execution_count": 62,
   "metadata": {},
   "outputs": [
    {
     "name": "stdout",
     "output_type": "stream",
     "text": [
      "-----\n",
      "Send: 229370\n",
      "Fee: 400\n",
      "Change: 0\n",
      "-----\n",
      "Signed Transaction(s):\n",
      "True\n",
      "True\n",
      "-----\n",
      "TXN:\n",
      "0100000002e017ce8c6282f548a9bbc30cbb0076a561a2268e57f3062596eb100de328c4eb010000006a47304402202343d1b8faca54ae4634d4ccfa5781322526ee4b7b1294c9fd9451f95057369702204d4e8eb92d9a21224e02d0d4560e34f74fff9ff3534cc1f33c802bb8b40336d90121030330b5abffcf0d488c878a37ac6ac705c7a92041898be4b725a19128fe2ca9bdffffffffaa7d54f6311a7cff380cebaa072b1c9be89ea55d1f2bee5607a9310e9536640b000000006b483045022100e4235308ef3edfa75ea2b5b4293746db22fc688610aaf91ee56d1adedc19bd41022063e61ed9e67ee0c77e8ef3dd610072c68f055723f9897e79b4235e2d0683d4d20121030330b5abffcf0d488c878a37ac6ac705c7a92041898be4b725a19128fe2ca9bdffffffff01fa7f0300000000001976a914d8566b7013b70035913951894b37ea21c9352cd088ac00000000\n"
     ]
    }
   ],
   "source": [
    "# Exercise 5\n",
    "\n",
    "from ecc import PrivateKey\n",
    "from helper import decode_base58, SIGHASH_ALL\n",
    "from script import p2pkh_script, Script\n",
    "from tx import TxIn, TxOut, Tx\n",
    "\n",
    "# Create 2 TxIns, 1 from the Exercise 4 and 1 from a testnet faucet\n",
    "# Creat 1 TxOut to the address above\n",
    "target_address = 'n1Eqn2vTXR4xfy7UVJGXnGn2DxQpqWXiWH'\n",
    "\n",
    "# get the private key from the exercise in Chapter 4\n",
    "passphrase = b'mynima@protonmail.comBorderTerriers.Becausepeoplearestupid.'\n",
    "secret = little_endian_to_int(hash256(passphrase))\n",
    "private_key = PrivateKey(secret)\n",
    "\n",
    "utxo_in = 0.0022977\n",
    "btc_to_sats = 100000000\n",
    "fee_set = 400\n",
    "\n",
    "tx_ins = []\n",
    "# get the prev_tx and prev_index from the transaction where you got\n",
    "# some testnet coins\n",
    "prev_tx1 = bytes.fromhex(\"ebc428e30d10eb962506f3578e26a261a57600bb0cc3bba948f582628cce17e0\")\n",
    "prev_index1 = 1\n",
    "# create the first transaction input with the default ScriptSig and\n",
    "# sequence\n",
    "tx_in1 = TxIn(prev_tx1, prev_index1)\n",
    "tx_ins.append(tx_in1)\n",
    "\n",
    "# get the prev_tx and prev_index from the transaction in Exercise 4\n",
    "# create the second transaction input with the default ScriptSig and\n",
    "# sequence\n",
    "prev_tx2 = bytes.fromhex(\"0b6436950e31a90756ee2b1f5da59ee89b1c2b07aaeb0c38ff7c1a31f6547daa\")\n",
    "prev_index2 = 0\n",
    "tx_in2 = TxIn(prev_tx2, prev_index2)\n",
    "tx_ins.append(tx_in2)\n",
    "\n",
    "# set the fee to some reasonable amount\n",
    "# target amount should be the sum of the inputs - fee\n",
    "fee = fee_set\n",
    "target_amount = int((utxo_in-(fee/btc_to_sats))*btc_to_sats)\n",
    "change_amount = int((utxo_in*btc_to_sats)) - target_amount - fee\n",
    "\n",
    "# create a transaction output for the amount and address\n",
    "\n",
    "# sign the first input using the private key\n",
    "# sign the second input using the private key \n",
    "# print the transaction's serialization in hex\n",
    "\n",
    "tx_outs = []\n",
    "# create a transaction output for the target amount and address\n",
    "target_h160 = decode_base58(target_address)\n",
    "target_script = p2pkh_script(target_h160)\n",
    "target_output = TxOut(amount=target_amount, script_pubkey=target_script)\n",
    "tx_outs.append(target_output)\n",
    "\n",
    "# create the transaction object\n",
    "tx_obj = Tx(1, tx_ins, tx_outs, 0, True)\n",
    "\n",
    "\n",
    "print(\"-----\")\n",
    "print(\"Send: \" + str(target_amount))\n",
    "print(\"Fee: \" + str(fee))\n",
    "print(\"Change: \" + str(change_amount))\n",
    "\n",
    "print(\"-----\")\n",
    "print(\"Signed Transaction(s):\")\n",
    "\n",
    "print(tx_obj.sign_input(0, private_key))\n",
    "print(tx_obj.sign_input(1, private_key))\n",
    "\n",
    "# print the transaction's serialization in hex\n",
    "print(\"-----\")\n",
    "print(\"TXN:\")\n",
    "print(tx_obj.serialize().hex())\n",
    "\n",
    "\n",
    "# broadcast at http://testnet.blockchain.info/pushtx"
   ]
  },
  {
   "cell_type": "code",
   "execution_count": null,
   "metadata": {},
   "outputs": [],
   "source": []
  }
 ],
 "metadata": {
  "kernelspec": {
   "display_name": "Python 3 (ipykernel)",
   "language": "python",
   "name": "python3"
  },
  "language_info": {
   "codemirror_mode": {
    "name": "ipython",
    "version": 3
   },
   "file_extension": ".py",
   "mimetype": "text/x-python",
   "name": "python",
   "nbconvert_exporter": "python",
   "pygments_lexer": "ipython3",
   "version": "3.9.6"
  }
 },
 "nbformat": 4,
 "nbformat_minor": 2
}
